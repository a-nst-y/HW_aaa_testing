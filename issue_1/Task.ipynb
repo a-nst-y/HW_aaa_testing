{
 "cells": [
  {
   "cell_type": "markdown",
   "id": "9e1c9834",
   "metadata": {},
   "source": [
    "\n",
    "## issue-01\n",
    "Дана функция, кодирующая строку в соответсвии с таблицей азбуки Морзе\n"
   ]
  },
  {
   "cell_type": "code",
   "execution_count": null,
   "id": "fdb906d0",
   "metadata": {},
   "outputs": [],
   "source": [
    "# полный код в файле morse.py\n",
    "def encode(message: str) -> str:\n",
    "    \"\"\"\n",
    "    Кодирует строку в соответсвии с таблицей азбуки Морзе\n",
    "    \"\"\"\n",
    "    encoded_signs = [\n",
    "        LETTER_TO_MORSE[letter] for letter in message\n",
    "    ]\n",
    "\n",
    "    return ' '.join(encoded_signs)"
   ]
  },
  {
   "cell_type": "markdown",
   "id": "3eae0645",
   "metadata": {},
   "source": [
    "Напишите на неё тесты с использование `doctest`\n",
    "\n",
    "**DoD (Definition of Done) - критерии, позволяющие понять, что задача сделана, как ожидается**:\n",
    "* используется директива\n",
    "* используется флаг\n",
    "* тест с message = 'SOS'\n",
    "* тест с исключением (Exception)\n",
    "* файл README.md с описанием шагов для запуска\n",
    "* файл result с командами и результатами запуска\n",
    "* файл *.py с функцией и доктестами\n",
    "* нет замечаний от `flake8`\n"
   ]
  }
 ],
 "metadata": {
  "kernelspec": {
   "display_name": "Python 3 (ipykernel)",
   "language": "python",
   "name": "python3"
  },
  "language_info": {
   "codemirror_mode": {
    "name": "ipython",
    "version": 3
   },
   "file_extension": ".py",
   "mimetype": "text/x-python",
   "name": "python",
   "nbconvert_exporter": "python",
   "pygments_lexer": "ipython3",
   "version": "3.9.7"
  }
 },
 "nbformat": 4,
 "nbformat_minor": 5
}
