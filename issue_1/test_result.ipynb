{
 "cells": [
  {
   "cell_type": "code",
   "execution_count": 1,
   "id": "3c6e1ea0",
   "metadata": {
    "scrolled": true
   },
   "outputs": [
    {
     "name": "stdout",
     "output_type": "stream",
     "text": [
      "Trying:\n",
      "    encode('SOS')\n",
      "Expecting:\n",
      "    '... --- ...'\n",
      "ok\n",
      "Trying:\n",
      "    encode('sos')\n",
      "Expecting:\n",
      "    Traceback (most recent call last):\n",
      "        ...\n",
      "    ValueError: string must be uppercase\n",
      "**********************************************************************\n",
      "File \"C:\\Users\\Анастасия\\Desktop\\ААА\\03-instrumenty-testirovaniya-v-python\\morse.py\", line 35, in morse.encode\n",
      "Failed example:\n",
      "    encode('sos')\n",
      "Expected:\n",
      "    Traceback (most recent call last):\n",
      "        ...\n",
      "    ValueError: string must be uppercase\n",
      "Got:\n",
      "    Traceback (most recent call last):\n",
      "      File \"D:\\anaconda\\lib\\doctest.py\", line 1336, in __run\n",
      "        exec(compile(example.source, filename, \"single\",\n",
      "      File \"<doctest morse.encode[1]>\", line 1, in <module>\n",
      "        encode('sos')\n",
      "      File \"C:\\Users\\Анастасия\\Desktop\\ААА\\03-instrumenty-testirovaniya-v-python\\morse.py\", line 40, in encode\n",
      "        encoded_signs = [\n",
      "      File \"C:\\Users\\Анастасия\\Desktop\\ААА\\03-instrumenty-testirovaniya-v-python\\morse.py\", line 41, in <listcomp>\n",
      "        LETTER_TO_MORSE[letter] for letter in message\n",
      "    KeyError: 's'\n",
      "3 items had no tests:\n",
      "    morse\n",
      "    morse.decode\n",
      "    morse.test_decode\n",
      "**********************************************************************\n",
      "1 items had failures:\n",
      "   1 of   2 in morse.encode\n",
      "2 tests in 4 items.\n",
      "1 passed and 1 failed.\n",
      "***Test Failed*** 1 failures.\n"
     ]
    }
   ],
   "source": [
    "! python -m doctest -o NORMALIZE_WHITESPACE -v morse.py"
   ]
  }
 ],
 "metadata": {
  "kernelspec": {
   "display_name": "Python 3 (ipykernel)",
   "language": "python",
   "name": "python3"
  },
  "language_info": {
   "codemirror_mode": {
    "name": "ipython",
    "version": 3
   },
   "file_extension": ".py",
   "mimetype": "text/x-python",
   "name": "python",
   "nbconvert_exporter": "python",
   "pygments_lexer": "ipython3",
   "version": "3.9.7"
  }
 },
 "nbformat": 4,
 "nbformat_minor": 5
}
