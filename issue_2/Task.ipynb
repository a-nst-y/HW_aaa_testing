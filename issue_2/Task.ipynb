{
 "cells": [
  {
   "cell_type": "markdown",
   "id": "41b62d2d",
   "metadata": {},
   "source": [
    "## issue-02\n",
    "Дана функция, декодирующая строку из азбуки Морзе в английский\n"
   ]
  },
  {
   "cell_type": "code",
   "execution_count": null,
   "id": "45d0f1d7",
   "metadata": {},
   "outputs": [],
   "source": [
    "# полный код в файле morse.py\n",
    "def decode(morse_message: str) -> str:\n",
    "    \"\"\"\n",
    "    Декодирует строку из азбуки Морзе в английский\n",
    "    \"\"\"\n",
    "    decoded_letters = [\n",
    "        MORSE_TO_LETTER[letter] for letter in morse_message.split()\n",
    "    ]\n",
    "\n",
    "    return ''.join(decoded_letters)"
   ]
  },
  {
   "cell_type": "markdown",
   "id": "4fbc3224",
   "metadata": {},
   "source": [
    "Напишите на неё параметрический тест, используя `pytest.mark.parametrize`\n",
    "\n",
    "**DoD (Definition of Done) - критерии, позволяющие понять, что задача сделана, как ожидается**:\n",
    "* минимум 3 тестовых примера\n",
    "* файл README.md с описанием шагов для запуска\n",
    "* файл result с командами и результатами запуска\n",
    "* файл *.py с функцией и тестами\n",
    "* нет замечаний от `flake8`\n"
   ]
  }
 ],
 "metadata": {
  "kernelspec": {
   "display_name": "Python 3 (ipykernel)",
   "language": "python",
   "name": "python3"
  },
  "language_info": {
   "codemirror_mode": {
    "name": "ipython",
    "version": 3
   },
   "file_extension": ".py",
   "mimetype": "text/x-python",
   "name": "python",
   "nbconvert_exporter": "python",
   "pygments_lexer": "ipython3",
   "version": "3.9.7"
  }
 },
 "nbformat": 4,
 "nbformat_minor": 5
}
