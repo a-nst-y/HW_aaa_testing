{
 "cells": [
  {
   "cell_type": "code",
   "execution_count": 2,
   "id": "fd82e9f2",
   "metadata": {
    "scrolled": true
   },
   "outputs": [
    {
     "name": "stdout",
     "output_type": "stream",
     "text": [
      "============================= test session starts =============================\n",
      "platform win32 -- Python 3.9.7, pytest-7.2.0, pluggy-0.13.1 -- D:\\anaconda\\python.exe\n",
      "cachedir: .pytest_cache\n",
      "rootdir: C:\\Users\\Анастасия\\Desktop\\ААА\\03-instrumenty-testirovaniya-v-python\n",
      "plugins: anyio-2.2.0, cov-4.0.0\n",
      "collecting ... collected 3 items\n",
      "\n",
      "morse.py::test_decode[... --- ...-SOS] PASSED                            [ 33%]\n",
      "morse.py::test_decode[.... . .-.. .-.. ----HELLO] PASSED                 [ 66%]\n",
      "morse.py::test_decode[..-. .-. --- --.-FROG] PASSED                      [100%]\n",
      "\n",
      "============================== 3 passed in 0.08s ==============================\n"
     ]
    }
   ],
   "source": [
    "! python -m pytest -v morse.py"
   ]
  }
 ],
 "metadata": {
  "kernelspec": {
   "display_name": "Python 3 (ipykernel)",
   "language": "python",
   "name": "python3"
  },
  "language_info": {
   "codemirror_mode": {
    "name": "ipython",
    "version": 3
   },
   "file_extension": ".py",
   "mimetype": "text/x-python",
   "name": "python",
   "nbconvert_exporter": "python",
   "pygments_lexer": "ipython3",
   "version": "3.9.7"
  }
 },
 "nbformat": 4,
 "nbformat_minor": 5
}
