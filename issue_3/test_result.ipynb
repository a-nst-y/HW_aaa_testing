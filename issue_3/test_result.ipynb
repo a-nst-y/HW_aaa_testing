{
 "cells": [
  {
   "cell_type": "code",
   "execution_count": 3,
   "id": "d4c6ac02",
   "metadata": {
    "scrolled": true
   },
   "outputs": [
    {
     "name": "stderr",
     "output_type": "stream",
     "text": [
      "test_number (one_hot_encoder.Testing) ... ok\n",
      "test_string (one_hot_encoder.Testing) ... ok\n",
      "test_string_not_eq (one_hot_encoder.Testing) ... ok\n",
      "test_tuple (one_hot_encoder.Testing) ... ok\n",
      "testraise (one_hot_encoder.Testing) ... ok\n",
      "\n",
      "----------------------------------------------------------------------\n",
      "Ran 5 tests in 0.000s\n",
      "\n",
      "OK\n"
     ]
    }
   ],
   "source": [
    "! python -m unittest  -v one_hot_encoder.py"
   ]
  }
 ],
 "metadata": {
  "kernelspec": {
   "display_name": "Python 3 (ipykernel)",
   "language": "python",
   "name": "python3"
  },
  "language_info": {
   "codemirror_mode": {
    "name": "ipython",
    "version": 3
   },
   "file_extension": ".py",
   "mimetype": "text/x-python",
   "name": "python",
   "nbconvert_exporter": "python",
   "pygments_lexer": "ipython3",
   "version": "3.9.7"
  }
 },
 "nbformat": 4,
 "nbformat_minor": 5
}
