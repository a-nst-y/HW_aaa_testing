{
 "cells": [
  {
   "cell_type": "markdown",
   "id": "43eb38cd",
   "metadata": {},
   "source": [
    "## issue-03\n",
    "Дана функция, кодирующая значение в бинарное представление на основе порядкового номера первого встречаемго элемента\\\n",
    "Подробнее про `One Hot Encoding` можно почтитать тут - [How to One Hot Encode Sequence Data in Python](https://machinelearningmastery.com/how-to-one-hot-encode-sequence-data-in-python/)\n"
   ]
  },
  {
   "cell_type": "code",
   "execution_count": null,
   "id": "d5bc2dac",
   "metadata": {},
   "outputs": [],
   "source": [
    "# полный код в файле one_hot_encoder.py\n",
    "def fit_transform(*args: str) -> List[Tuple[str, List[int]]]:\n",
    "    \"\"\"\n",
    "    fit_transform(iterable)\n",
    "    fit_transform(arg1, arg2, *args)\n",
    "    \"\"\"\n",
    "    if len(args) == 0:\n",
    "        raise TypeError('expected at least 1 arguments, got 0')\n",
    "\n",
    "    categories = args if isinstance(args[0], str) else list(args[0])\n",
    "    uniq_categories = set(categories)\n",
    "    bin_format = f'{{0:0{len(uniq_categories)}b}}'\n",
    "\n",
    "    seen_categories = dict()\n",
    "    transformed_rows = []\n",
    "\n",
    "    for cat in categories:\n",
    "        bin_view_cat = (int(b) for b in bin_format.format(1 << len(seen_categories)))\n",
    "        seen_categories.setdefault(cat, list(bin_view_cat))\n",
    "        transformed_rows.append((cat, seen_categories[cat]))\n",
    "\n",
    "    return transformed_rows"
   ]
  },
  {
   "cell_type": "markdown",
   "id": "68ecb71c",
   "metadata": {},
   "source": [
    "Напишите на неё тесты с использованием `pytest`\n",
    "\n",
    "**DoD (Definition of Done) - критерии, позволяющие понять, что задача сделана, как ожидается**:\n",
    "* минимум 4 тестовых примера\n",
    "* пример с перехватом исключения\n",
    "* файл README.md с описанием шагов для запуска\n",
    "* файл result с командами и результатами запуска\n",
    "* файл *.py с функцией и тестами\n",
    "* нет замечаний от `flake8`\n"
   ]
  }
 ],
 "metadata": {
  "kernelspec": {
   "display_name": "Python 3 (ipykernel)",
   "language": "python",
   "name": "python3"
  },
  "language_info": {
   "codemirror_mode": {
    "name": "ipython",
    "version": 3
   },
   "file_extension": ".py",
   "mimetype": "text/x-python",
   "name": "python",
   "nbconvert_exporter": "python",
   "pygments_lexer": "ipython3",
   "version": "3.9.7"
  }
 },
 "nbformat": 4,
 "nbformat_minor": 5
}
