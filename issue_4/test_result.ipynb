{
 "cells": [
  {
   "cell_type": "code",
   "execution_count": 4,
   "id": "1210df54",
   "metadata": {
    "scrolled": true
   },
   "outputs": [
    {
     "name": "stdout",
     "output_type": "stream",
     "text": [
      "============================= test session starts =============================\n",
      "platform win32 -- Python 3.9.7, pytest-7.2.0, pluggy-0.13.1 -- D:\\anaconda\\python.exe\n",
      "cachedir: .pytest_cache\n",
      "rootdir: C:\\Users\\Анастасия\\Desktop\\ААА\\03-instrumenty-testirovaniya-v-python\n",
      "plugins: anyio-2.2.0, cov-4.0.0\n",
      "collecting ... collected 10 items\n",
      "\n",
      "one_hot_encoder.py::Testing::test_number PASSED                          [ 10%]\n",
      "one_hot_encoder.py::Testing::test_string PASSED                          [ 20%]\n",
      "one_hot_encoder.py::Testing::test_string_not_eq PASSED                   [ 30%]\n",
      "one_hot_encoder.py::Testing::test_tuple PASSED                           [ 40%]\n",
      "one_hot_encoder.py::Testing::testraise PASSED                            [ 50%]\n",
      "one_hot_encoder.py::test_cities PASSED                                   [ 60%]\n",
      "one_hot_encoder.py::test_numbers PASSED                                  [ 70%]\n",
      "one_hot_encoder.py::test_tuple PASSED                                    [ 80%]\n",
      "one_hot_encoder.py::test_list_of_tuples PASSED                           [ 90%]\n",
      "one_hot_encoder.py::test_exception PASSED                                [100%]\n",
      "\n",
      "============================= 10 passed in 0.07s ==============================\n"
     ]
    }
   ],
   "source": [
    "! python -m pytest  -v one_hot_encoder.py"
   ]
  }
 ],
 "metadata": {
  "kernelspec": {
   "display_name": "Python 3 (ipykernel)",
   "language": "python",
   "name": "python3"
  },
  "language_info": {
   "codemirror_mode": {
    "name": "ipython",
    "version": 3
   },
   "file_extension": ".py",
   "mimetype": "text/x-python",
   "name": "python",
   "nbconvert_exporter": "python",
   "pygments_lexer": "ipython3",
   "version": "3.9.7"
  }
 },
 "nbformat": 4,
 "nbformat_minor": 5
}
