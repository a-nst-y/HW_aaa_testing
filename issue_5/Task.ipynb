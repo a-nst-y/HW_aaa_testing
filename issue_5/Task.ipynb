{
 "cells": [
  {
   "cell_type": "markdown",
   "id": "d2aeb21f",
   "metadata": {},
   "source": [
    "## issue-05\n",
    "Дана функция, возвращающая текущий год. Дату и время получаем из API-worldclock"
   ]
  },
  {
   "cell_type": "code",
   "execution_count": 1,
   "id": "80b6234a",
   "metadata": {},
   "outputs": [],
   "source": [
    "# полный код в файле what_is_year_now.py\n",
    "def what_is_year_now() -> int:\n",
    "    \"\"\"\n",
    "    Получает текущее время из API-worldclock и извлекает из поля 'currentDateTime' год\n",
    "\n",
    "    Предположим, что currentDateTime может быть в двух форматах:\n",
    "      * YYYY-MM-DD - 2019-03-01\n",
    "      * DD.MM.YYYY - 01.03.2019\n",
    "    \"\"\"\n",
    "    with urllib.request.urlopen(API_URL) as resp:\n",
    "        resp_json = json.load(resp)\n",
    "\n",
    "    datetime_str = resp_json['currentDateTime']\n",
    "    if datetime_str[YMD_SEP_INDEX] == YMD_SEP:\n",
    "        year_str = datetime_str[YMD_YEAR_SLICE]\n",
    "    elif datetime_str[DMY_SEP_INDEX] == DMY_SEP:\n",
    "        year_str = datetime_str[DMY_YEAR_SLICE]\n",
    "    else:\n",
    "        raise ValueError('Invalid format')\n",
    "\n",
    "    return int(year_str)"
   ]
  },
  {
   "cell_type": "markdown",
   "id": "259a32c3",
   "metadata": {},
   "source": [
    "Напишите на неё тесты, проверяющие все сценарии работы\n",
    "\n",
    "**DoD (Definition of Done) - критерии, позволяющие понять, что задача сделана, как ожидается**и:\n",
    "* добейтесь 100% покртыия кода тестами\n",
    "* используйте unittest.mock для замены реального обращения к API\n",
    "* предоставьте отчет о покрытии в виде директории с html файлами\n",
    "* файл README.md с описанием шагов для запуска\n",
    "* файл result с командами и результатами запуска\n",
    "* файл *.py с функцией и тестами\n",
    "* нет замечаний от `flake8`\n"
   ]
  }
 ],
 "metadata": {
  "kernelspec": {
   "display_name": "Python 3 (ipykernel)",
   "language": "python",
   "name": "python3"
  },
  "language_info": {
   "codemirror_mode": {
    "name": "ipython",
    "version": 3
   },
   "file_extension": ".py",
   "mimetype": "text/x-python",
   "name": "python",
   "nbconvert_exporter": "python",
   "pygments_lexer": "ipython3",
   "version": "3.9.7"
  }
 },
 "nbformat": 4,
 "nbformat_minor": 5
}
