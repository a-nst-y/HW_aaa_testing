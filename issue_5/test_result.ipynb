{
 "cells": [
  {
   "cell_type": "code",
   "execution_count": 5,
   "id": "ca93a25c",
   "metadata": {
    "scrolled": true
   },
   "outputs": [
    {
     "name": "stdout",
     "output_type": "stream",
     "text": [
      "...                                                                      [100%]\n",
      "\n",
      "----------- coverage: platform win32, python 3.9.7-final-0 -----------\n",
      "Coverage HTML written to dir htmlcov\n",
      "\n",
      "3 passed in 0.24s\n"
     ]
    }
   ],
   "source": [
    "! python -m pytest -q issue_5_test.py --cov . --cov-report html"
   ]
  }
 ],
 "metadata": {
  "kernelspec": {
   "display_name": "Python 3 (ipykernel)",
   "language": "python",
   "name": "python3"
  },
  "language_info": {
   "codemirror_mode": {
    "name": "ipython",
    "version": 3
   },
   "file_extension": ".py",
   "mimetype": "text/x-python",
   "name": "python",
   "nbconvert_exporter": "python",
   "pygments_lexer": "ipython3",
   "version": "3.9.7"
  }
 },
 "nbformat": 4,
 "nbformat_minor": 5
}
